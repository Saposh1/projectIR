{
  "nbformat": 4,
  "nbformat_minor": 0,
  "metadata": {
    "colab": {
      "provenance": []
    },
    "kernelspec": {
      "name": "python3",
      "display_name": "Python 3"
    },
    "language_info": {
      "name": "python"
    }
  },
  "cells": [
    {
      "cell_type": "code",
      "execution_count": null,
      "metadata": {
        "id": "n1wGq0s6VFjO"
      },
      "outputs": [],
      "source": [
        "from collections import Counter\n",
        "import pickle\n",
        "from pathlib import Path\n",
        "# Paths\n",
        "# Using user page views (as opposed to spiders and automated traffic) for the\n",
        "# month of August 2021\n",
        "pv_path = 'https://dumps.wikimedia.org/other/pageview_complete/monthly/2021/2021-08/pageviews-202108-user.bz2'\n",
        "p = Path(pv_path)\n",
        "pv_name = p.name\n",
        "pv_temp = f'{p.stem}-4dedup.txt'\n",
        "pv_clean = f'{p.stem}.pkl'\n",
        "# Download the file (2.3GB)\n",
        "!wget -N $pv_path\n",
        "# Filter for English pages, and keep just two fields: article ID (3) and monthly\n",
        "# total number of page views (5). Then, remove lines with article id or page\n",
        "# view values that are not a sequence of digits.\n",
        "!bzcat $pv_name | grep \"^en\\.wikipedia\" | cut -d' ' -f3,5 | grep -P \"^\\d+\\s\\d+$\" > $pv_temp\n",
        "# Create a Counter (dictionary) that sums up the pages views for the same\n",
        "# article, resulting in a mapping from article id to total page views.\n",
        "wid2pv = Counter()\n",
        "with open(pv_temp, 'rt') as f:\n",
        "    for line in f:\n",
        "     parts = line.split(' ')\n",
        "     wid2pv.update({int(parts[0]): int(parts[1])})\n",
        " # write out the counter as binary file (pickle it)\n",
        "with open(pv_clean, 'wb') as f:\n",
        "    pickle.dump(wid2pv, f)\n",
        " # read in the counter\n",
        " # with open(pv_clean, 'rb') as f:\n",
        " #   wid2pv = pickle.loads(f.read())"
      ]
    }
  ]
}